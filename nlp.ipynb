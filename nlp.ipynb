{
 "cells": [
  {
   "cell_type": "markdown",
   "metadata": {},
   "source": [
    "# Research on Implementing Text PII Anonymization using NLP"
   ]
  },
  {
   "cell_type": "markdown",
   "metadata": {},
   "source": [
    "We were provided with 4 option of data sets among which I considerd the Iranian Website log Dataset. "
   ]
  },
  {
   "cell_type": "markdown",
   "metadata": {},
   "source": [
    "This dataset consists of an excel sheet \"client_hostname.csv\" which we are going to explore and share our research findings on."
   ]
  },
  {
   "cell_type": "markdown",
   "metadata": {},
   "source": [
    "Considering the data samples provided in the context I found a few libraries to do the operation with.  "
   ]
  },
  {
   "cell_type": "markdown",
   "metadata": {},
   "source": [
    "### Presidio from Microsoft, that can be used for PII Anonymization. \n"
   ]
  },
  {
   "cell_type": "markdown",
   "metadata": {},
   "source": [
    "Presido works like - \n",
    "\n",
    "![alt text](detection_flow.gif)"
   ]
  },
  {
   "cell_type": "code",
   "execution_count": 2,
   "metadata": {},
   "outputs": [],
   "source": [
    "import pandas as pd\n",
    "\n",
    "data  = pd.read_csv(\"archive/client_hostname.csv\")"
   ]
  },
  {
   "cell_type": "code",
   "execution_count": 3,
   "metadata": {},
   "outputs": [
    {
     "data": {
      "text/html": [
       "<div>\n",
       "<style scoped>\n",
       "    .dataframe tbody tr th:only-of-type {\n",
       "        vertical-align: middle;\n",
       "    }\n",
       "\n",
       "    .dataframe tbody tr th {\n",
       "        vertical-align: top;\n",
       "    }\n",
       "\n",
       "    .dataframe thead th {\n",
       "        text-align: right;\n",
       "    }\n",
       "</style>\n",
       "<table border=\"1\" class=\"dataframe\">\n",
       "  <thead>\n",
       "    <tr style=\"text-align: right;\">\n",
       "      <th></th>\n",
       "      <th>client</th>\n",
       "      <th>hostname</th>\n",
       "      <th>alias_list</th>\n",
       "      <th>address_list</th>\n",
       "    </tr>\n",
       "  </thead>\n",
       "  <tbody>\n",
       "    <tr>\n",
       "      <th>0</th>\n",
       "      <td>5.123.144.95</td>\n",
       "      <td>5.123.144.95</td>\n",
       "      <td>[Errno 1] Unknown host</td>\n",
       "      <td>NaN</td>\n",
       "    </tr>\n",
       "    <tr>\n",
       "      <th>1</th>\n",
       "      <td>5.122.76.187</td>\n",
       "      <td>5.122.76.187</td>\n",
       "      <td>[Errno 1] Unknown host</td>\n",
       "      <td>NaN</td>\n",
       "    </tr>\n",
       "    <tr>\n",
       "      <th>2</th>\n",
       "      <td>5.215.249.99</td>\n",
       "      <td>5.215.249.99</td>\n",
       "      <td>[Errno 1] Unknown host</td>\n",
       "      <td>NaN</td>\n",
       "    </tr>\n",
       "    <tr>\n",
       "      <th>3</th>\n",
       "      <td>31.56.102.211</td>\n",
       "      <td>31-56-102-211.shatel.ir</td>\n",
       "      <td>['211.102.56.31.in-addr.arpa']</td>\n",
       "      <td>['31.56.102.211']</td>\n",
       "    </tr>\n",
       "    <tr>\n",
       "      <th>4</th>\n",
       "      <td>5.123.166.223</td>\n",
       "      <td>5.123.166.223</td>\n",
       "      <td>[Errno 1] Unknown host</td>\n",
       "      <td>NaN</td>\n",
       "    </tr>\n",
       "  </tbody>\n",
       "</table>\n",
       "</div>"
      ],
      "text/plain": [
       "          client                 hostname                      alias_list  \\\n",
       "0   5.123.144.95             5.123.144.95          [Errno 1] Unknown host   \n",
       "1   5.122.76.187             5.122.76.187          [Errno 1] Unknown host   \n",
       "2   5.215.249.99             5.215.249.99          [Errno 1] Unknown host   \n",
       "3  31.56.102.211  31-56-102-211.shatel.ir  ['211.102.56.31.in-addr.arpa']   \n",
       "4  5.123.166.223            5.123.166.223          [Errno 1] Unknown host   \n",
       "\n",
       "        address_list  \n",
       "0                NaN  \n",
       "1                NaN  \n",
       "2                NaN  \n",
       "3  ['31.56.102.211']  \n",
       "4                NaN  "
      ]
     },
     "execution_count": 3,
     "metadata": {},
     "output_type": "execute_result"
    }
   ],
   "source": [
    "data.head()"
   ]
  },
  {
   "cell_type": "code",
   "execution_count": 1,
   "metadata": {},
   "outputs": [],
   "source": [
    "from presidio_analyzer import AnalyzerEngine\n",
    "from presidio_anonymizer import AnonymizerEngine"
   ]
  },
  {
   "cell_type": "code",
   "execution_count": 2,
   "metadata": {},
   "outputs": [
    {
     "name": "stdout",
     "output_type": "stream",
     "text": [
      "[type: PHONE_NUMBER, start: 19, end: 31, score: 0.75]\n",
      "My phone number is 212-555-5555\n",
      "text: My phone number is <PHONE_NUMBER>\n",
      "items:\n",
      "[\n",
      "    {'start': 19, 'end': 33, 'entity_type': 'PHONE_NUMBER', 'text': '<PHONE_NUMBER>', 'operator': 'replace'}\n",
      "]\n",
      "\n"
     ]
    }
   ],
   "source": [
    "from presidio_analyzer import AnalyzerEngine\n",
    "from presidio_anonymizer import AnonymizerEngine\n",
    "\n",
    "text=\"My phone number is 212-555-5555\"\n",
    "\n",
    "# Set up the engine, loads the NLP module (spaCy model by default) \n",
    "# and other PII recognizers\n",
    "analyzer = AnalyzerEngine()\n",
    "\n",
    "# Call analyzer to get results\n",
    "results = analyzer.analyze(text=text,\n",
    "                           entities=[\"PHONE_NUMBER\"],\n",
    "                           language='en')\n",
    "print(results)\n",
    "\n",
    "# Analyzer results are passed to the AnonymizerEngine for anonymization\n",
    "\n",
    "anonymizer = AnonymizerEngine()\n",
    "\n",
    "anonymized_text = anonymizer.anonymize(text=text,analyzer_results=results)\n",
    "print(f'{text}')\n",
    "print(anonymized_text)"
   ]
  },
  {
   "cell_type": "code",
   "execution_count": 5,
   "metadata": {},
   "outputs": [
    {
     "name": "stdout",
     "output_type": "stream",
     "text": [
      "   LineId        Date      Time Level Component  \\\n",
      "0       1  2016-09-28  04:30:30  Info       CBS   \n",
      "1       2  2016-09-28  04:30:31  Info       CSI   \n",
      "2       3  2016-09-28  04:30:31  Info       CSI   \n",
      "3       4  2016-09-28  04:30:31  Info       CSI   \n",
      "4       5  2016-09-28  04:30:31  Info       CBS   \n",
      "5       6  2016-09-28  04:30:31  Info       CBS   \n",
      "6       7  2016-09-28  04:30:31  Info       CBS   \n",
      "7       8  2016-09-28  04:30:31  Info       CBS   \n",
      "8       9  2016-09-28  04:30:31  Info       CBS   \n",
      "9      10  2016-09-28  04:30:31  Info       CBS   \n",
      "\n",
      "                                             Content EventId  \\\n",
      "0  Loaded Servicing Stack the number is 916362931...     E23   \n",
      "1  00000001@2016/9/27:20:30:31.455 WcpInitialize ...     E13   \n",
      "2  00000002@2016/9/27:20:30:31.458 WcpInitialize ...     E13   \n",
      "3  00000003@2016/9/27:20:30:31.458 WcpInitialize ...     E13   \n",
      "4            Ending TrustedInstaller initialization.     E17   \n",
      "5           Starting the TrustedInstaller main loop.     E44   \n",
      "6      TrustedInstaller service starts successfully.     E48   \n",
      "7  SQM: Initializing online with Windows opt-in: ...     E40   \n",
      "8  SQM: Cleaning up report files older than 10 days.     E37   \n",
      "9      SQM: Requesting upload of all unsent reports.     E42   \n",
      "\n",
      "                                       EventTemplate  \n",
      "0  Loaded Servicing Stack <*> with Core: <*>\\cbsc...  \n",
      "1  <*>@<*>/<*>/<*>:<*>:<*>:<*>.<*> WcpInitialize ...  \n",
      "2  <*>@<*>/<*>/<*>:<*>:<*>:<*>.<*> WcpInitialize ...  \n",
      "3  <*>@<*>/<*>/<*>:<*>:<*>:<*>.<*> WcpInitialize ...  \n",
      "4            Ending TrustedInstaller initialization.  \n",
      "5           Starting the TrustedInstaller main loop.  \n",
      "6      TrustedInstaller service starts successfully.  \n",
      "7  SQM: Initializing online with Windows opt-in: ...  \n",
      "8  SQM: Cleaning up report files older than <*> d...  \n",
      "9      SQM: Requesting upload of all unsent reports.  \n"
     ]
    }
   ],
   "source": [
    "data = data.head(10)\n",
    "print(data)"
   ]
  },
  {
   "cell_type": "markdown",
   "metadata": {},
   "source": [
    "Implementing this on the dataset"
   ]
  },
  {
   "cell_type": "code",
   "execution_count": 7,
   "metadata": {},
   "outputs": [
    {
     "name": "stdout",
     "output_type": "stream",
     "text": [
      "                                                Content  \\\n",
      "0     Loaded Servicing Stack the number is 916362931...   \n",
      "1     00000001@2016/9/27:20:30:31.455 WcpInitialize ...   \n",
      "2     00000002@2016/9/27:20:30:31.458 WcpInitialize ...   \n",
      "3     00000003@2016/9/27:20:30:31.458 WcpInitialize ...   \n",
      "4               Ending TrustedInstaller initialization.   \n",
      "...                                                 ...   \n",
      "1995  Read out cached package applicability for pack...   \n",
      "1996  Session: 30546354_3360174372 initialized by cl...   \n",
      "1997  Read out cached package applicability for pack...   \n",
      "1998  Session: 30546354_3363894584 initialized by cl...   \n",
      "1999  Read out cached package applicability for pack...   \n",
      "\n",
      "                                     Anonymized Content  \n",
      "0     Loaded Servicing Stack the number is <PHONE_NU...  \n",
      "1     00000001@2016/9/27:20:30:31.455 WcpInitialize ...  \n",
      "2     00000002@2016/9/27:20:30:31.458 WcpInitialize ...  \n",
      "3     00000003@2016/9/27:20:30:31.458 WcpInitialize ...  \n",
      "4               Ending TrustedInstaller initialization.  \n",
      "...                                                 ...  \n",
      "1995  Read out cached package applicability for pack...  \n",
      "1996  Session: 30546354_<PHONE_NUMBER> initialized b...  \n",
      "1997  Read out cached package applicability for pack...  \n",
      "1998  Session: 30546354_<PHONE_NUMBER> initialized b...  \n",
      "1999  Read out cached package applicability for pack...  \n",
      "\n",
      "[2000 rows x 2 columns]\n"
     ]
    }
   ],
   "source": [
    "import pandas as pd\n",
    "from presidio_analyzer import AnalyzerEngine\n",
    "from presidio_anonymizer import AnonymizerEngine\n",
    "\n",
    "# Load the dataset\n",
    "file_path = 'Windows_2k.log_structured.csv'\n",
    "data = pd.read_csv(file_path)\n",
    "\n",
    "\n",
    "# Initialize the engines\n",
    "analyzer = AnalyzerEngine()\n",
    "anonymizer = AnonymizerEngine()\n",
    "\n",
    "# Function to anonymize PII in text\n",
    "def anonymize_text(text):\n",
    "    results = analyzer.analyze(text=text, entities=[\"PHONE_NUMBER\"], language='en')\n",
    "    anonymized_result = anonymizer.anonymize(text=text, analyzer_results=results)\n",
    "    return anonymized_result.text\n",
    "\n",
    "# Apply the anonymization in the 'Content' column\n",
    "data['Anonymized Content'] = data['Content'].apply(anonymize_text)\n",
    "print(data[['Content', 'Anonymized Content']])\n",
    "\n",
    "# Optionally save the results\n",
    "data.to_csv('Anonymized_data.csv', index=False)\n"
   ]
  },
  {
   "cell_type": "markdown",
   "metadata": {},
   "source": [
    "Just to give a context, using MS Presido was  enough for a simple task --> "
   ]
  },
  {
   "attachments": {
    "image.png": {
     "image/png": "[encoded data removed]"
    }
   },
   "cell_type": "markdown",
   "metadata": {},
   "source": [
    "![image.png](attachment:image.png)"
   ]
  },
  {
   "cell_type": "markdown",
   "metadata": {},
   "source": [
    "going through the first 10 rows, it has identified the phone number and masked it, on further changes to the code it will be able to mask several other params\n"
   ]
  },
  {
   "cell_type": "markdown",
   "metadata": {},
   "source": [
    "# But Presido only works for a few params and there are other kinds of datasets in existence-> \n"
   ]
  },
  {
   "cell_type": "markdown",
   "metadata": {},
   "source": [
    "The previous dataset was the one from a windows machine from LogHub, this time we are going to use a differnet dataset, a Web sever logs kaggle dataset for an iranian e commerce website\n"
   ]
  },
  {
   "cell_type": "markdown",
   "metadata": {},
   "source": [
    "We will try to apply presido here --> "
   ]
  },
  {
   "cell_type": "code",
   "execution_count": 12,
   "metadata": {},
   "outputs": [],
   "source": [
    "# Load the dataset (ensure the file path is correct)\n",
    "file_path = 'archive\\client_hostname.csv'\n",
    "data = pd.read_csv(file_path)\n",
    "data = data.head(20)\n"
   ]
  },
  {
   "cell_type": "code",
   "execution_count": 16,
   "metadata": {},
   "outputs": [
    {
     "name": "stdout",
     "output_type": "stream",
     "text": [
      "Results for client:\n",
      "             client                                PII Found in client\n",
      "0      5.123.144.95                       [(IP_ADDRESS, 5.123.144.95)]\n",
      "1      5.122.76.187                       [(IP_ADDRESS, 5.122.76.187)]\n",
      "2      5.215.249.99                       [(IP_ADDRESS, 5.215.249.99)]\n",
      "3     31.56.102.211  [(IP_ADDRESS, 31.56.102.211), (PHONE_NUMBER, 3...\n",
      "4     5.123.166.223  [(IP_ADDRESS, 5.123.166.223), (PHONE_NUMBER, 5...\n",
      "5       5.160.26.98                        [(IP_ADDRESS, 5.160.26.98)]\n",
      "6     5.127.147.132  [(IP_ADDRESS, 5.127.147.132), (PHONE_NUMBER, 5...\n",
      "7     158.58.30.218                      [(IP_ADDRESS, 158.58.30.218)]\n",
      "8      86.55.230.86                       [(IP_ADDRESS, 86.55.230.86)]\n",
      "9      89.35.65.186  [(PERSON, 89.35.65.186), (IP_ADDRESS, 89.35.65...\n",
      "10    5.120.208.157  [(DATE_TIME, 5.120.208.157), (IP_ADDRESS, 5.12...\n",
      "11     192.15.193.5                       [(IP_ADDRESS, 192.15.193.5)]\n",
      "12     46.41.210.95                       [(IP_ADDRESS, 46.41.210.95)]\n",
      "13  188.158.178.115  [(DATE_TIME, 188.158.178.115), (IP_ADDRESS, 18...\n",
      "14    5.211.205.186  [(IP_ADDRESS, 5.211.205.186), (PHONE_NUMBER, 5...\n",
      "15    5.122.221.229  [(IP_ADDRESS, 5.122.221.229), (PHONE_NUMBER, 5...\n",
      "16     5.112.87.152                       [(IP_ADDRESS, 5.112.87.152)]\n",
      "17     5.214.59.242                       [(IP_ADDRESS, 5.214.59.242)]\n",
      "18     5.121.39.243                       [(IP_ADDRESS, 5.121.39.243)]\n",
      "19     5.124.223.22                       [(IP_ADDRESS, 5.124.223.22)]\n",
      "Results for hostname:\n",
      "                           hostname  \\\n",
      "0                      5.123.144.95   \n",
      "1                      5.122.76.187   \n",
      "2                      5.215.249.99   \n",
      "3           31-56-102-211.shatel.ir   \n",
      "4                     5.123.166.223   \n",
      "5                       5.160.26.98   \n",
      "6                     5.127.147.132   \n",
      "7                     158.58.30.218   \n",
      "8                      86.55.230.86   \n",
      "9                      89.35.65.186   \n",
      "10                    5.120.208.157   \n",
      "11                     192.15.193.5   \n",
      "12                     46.41.210.95   \n",
      "13  adsl-188-158-178-115.sabanet.ir   \n",
      "14                    5.211.205.186   \n",
      "15                    5.122.221.229   \n",
      "16                     5.112.87.152   \n",
      "17                     5.214.59.242   \n",
      "18                     5.121.39.243   \n",
      "19                     5.124.223.22   \n",
      "\n",
      "                                PII Found in hostname  \n",
      "0                        [(IP_ADDRESS, 5.123.144.95)]  \n",
      "1                        [(IP_ADDRESS, 5.122.76.187)]  \n",
      "2                        [(IP_ADDRESS, 5.215.249.99)]  \n",
      "3   [(URL, 31-56-102-211.shatel.ir), (PHONE_NUMBER...  \n",
      "4   [(IP_ADDRESS, 5.123.166.223), (PHONE_NUMBER, 5...  \n",
      "5                         [(IP_ADDRESS, 5.160.26.98)]  \n",
      "6   [(IP_ADDRESS, 5.127.147.132), (PHONE_NUMBER, 5...  \n",
      "7                       [(IP_ADDRESS, 158.58.30.218)]  \n",
      "8                        [(IP_ADDRESS, 86.55.230.86)]  \n",
      "9   [(PERSON, 89.35.65.186), (IP_ADDRESS, 89.35.65...  \n",
      "10  [(DATE_TIME, 5.120.208.157), (IP_ADDRESS, 5.12...  \n",
      "11                       [(IP_ADDRESS, 192.15.193.5)]  \n",
      "12                       [(IP_ADDRESS, 46.41.210.95)]  \n",
      "13  [(NRP, adsl-188-158-178-115.sabanet.ir), (URL,...  \n",
      "14  [(IP_ADDRESS, 5.211.205.186), (PHONE_NUMBER, 5...  \n",
      "15  [(IP_ADDRESS, 5.122.221.229), (PHONE_NUMBER, 5...  \n",
      "16                       [(IP_ADDRESS, 5.112.87.152)]  \n",
      "17                       [(IP_ADDRESS, 5.214.59.242)]  \n",
      "18                       [(IP_ADDRESS, 5.121.39.243)]  \n",
      "19                       [(IP_ADDRESS, 5.124.223.22)]  \n",
      "Results for alias_list:\n",
      "                          alias_list  \\\n",
      "3     ['211.102.56.31.in-addr.arpa']   \n",
      "13  ['115.178.158.188.in-addr.arpa']   \n",
      "\n",
      "                              PII Found in alias_list  \n",
      "3   [(IP_ADDRESS, 211.102.56.31), (URL, 211.102.56...  \n",
      "13  [(IP_ADDRESS, 115.178.158.188), (URL, 115.178....  \n",
      "Results for address_list:\n",
      "           address_list                          PII Found in address_list\n",
      "0                   NaN                                    [(PERSON, nan)]\n",
      "1                   NaN                                    [(PERSON, nan)]\n",
      "2                   NaN                                    [(PERSON, nan)]\n",
      "3     ['31.56.102.211']  [(IP_ADDRESS, 31.56.102.211), (PHONE_NUMBER, 3...\n",
      "4                   NaN                                    [(PERSON, nan)]\n",
      "5                   NaN                                    [(PERSON, nan)]\n",
      "6                   NaN                                    [(PERSON, nan)]\n",
      "7                   NaN                                    [(PERSON, nan)]\n",
      "8                   NaN                                    [(PERSON, nan)]\n",
      "9                   NaN                                    [(PERSON, nan)]\n",
      "10                  NaN                                    [(PERSON, nan)]\n",
      "11                  NaN                                    [(PERSON, nan)]\n",
      "12                  NaN                                    [(PERSON, nan)]\n",
      "13  ['188.158.178.115']                    [(IP_ADDRESS, 188.158.178.115)]\n",
      "14                  NaN                                    [(PERSON, nan)]\n",
      "15                  NaN                                    [(PERSON, nan)]\n",
      "16                  NaN                                    [(PERSON, nan)]\n",
      "17                  NaN                                    [(PERSON, nan)]\n",
      "18                  NaN                                    [(PERSON, nan)]\n",
      "19                  NaN                                    [(PERSON, nan)]\n"
     ]
    }
   ],
   "source": [
    "# Initialize the Presidio Analyzer engine\n",
    "analyzer = AnalyzerEngine()\n",
    "\n",
    "# Define a function to find PIIs in a text\n",
    "def find_pii(text):\n",
    "    try:\n",
    "        # Presidio Analyzer processes the text\n",
    "        analysis_results = analyzer.analyze(text=text, language='en')\n",
    "        # Extracts the type of PII and the actual text identified as PII\n",
    "        return [(result.entity_type, text[result.start:result.end]) for result in analysis_results]\n",
    "    except Exception as e:\n",
    "        # In case of any error during analysis, return an error message\n",
    "        return [str(e)]\n",
    "\n",
    "# List of columns to analyze for PII\n",
    "columns_to_analyze = ['client', 'hostname', 'alias_list', 'address_list']  # Adjust the column names as needed\n",
    "\n",
    "# Loop through each column and apply the PII finding function\n",
    "for column in columns_to_analyze:\n",
    "    if column in data.columns:\n",
    "        data[f'PII Found in {column}'] = data[column].astype(str).apply(find_pii)\n",
    "    else:\n",
    "        print(f\"Column '{column}' does not exist in the dataset.\")\n",
    "\n",
    "# Printing and reviewing the results\n",
    "for column in columns_to_analyze:\n",
    "    if column in data.columns:\n",
    "        pii_data = data[data[f'PII Found in {column}'].apply(len) > 0]\n",
    "        print(f\"Results for {column}:\")\n",
    "        print(pii_data[[column, f'PII Found in {column}']])\n"
   ]
  },
  {
   "cell_type": "markdown",
   "metadata": {},
   "source": [
    "### And it successfully manages to take out all the PII detials from the dataset."
   ]
  },
  {
   "cell_type": "markdown",
   "metadata": {},
   "source": [
    "Presido has some issues with it's default spaCy model that can adjusted with falir or hugging face models, right now it can't detect the PERSON entity if the names are in diffrent cases (uppercase or lowercase)"
   ]
  },
  {
   "cell_type": "code",
   "execution_count": 17,
   "metadata": {},
   "outputs": [
    {
     "name": "stdout",
     "output_type": "stream",
     "text": [
      "Results for uppercase: []\n",
      "Results for proper case: [type: PERSON, start: 0, end: 13, score: 0.85]\n",
      "Results for lowercase: []\n"
     ]
    }
   ],
   "source": [
    "from presidio_analyzer import AnalyzerEngine\n",
    "\n",
    "# Initialize the Presidio Analyzer engine\n",
    "analyzer = AnalyzerEngine()\n",
    "\n",
    "# Test different case variations of the name\n",
    "results_uppercase = analyzer.analyze(entities=[\"PERSON\"], text='SOPHY SANTINO', language=\"en\")\n",
    "results_propercase = analyzer.analyze(entities=[\"PERSON\"], text='Sophy Santino', language=\"en\")\n",
    "results_lowercase = analyzer.analyze(entities=[\"PERSON\"], text='sophy santino', language=\"en\")\n",
    "\n",
    "# Print results to observe the behavior\n",
    "print(\"Results for uppercase:\", results_uppercase)\n",
    "print(\"Results for proper case:\", results_propercase)\n",
    "print(\"Results for lowercase:\", results_lowercase)\n"
   ]
  },
  {
   "cell_type": "markdown",
   "metadata": {},
   "source": [
    "1. Is it possible to anonymize the dataset using NLP?\n",
    "\n",
    "Yes, it is possible, there are existing solutions to the problem and can be much better ones that can be developed\n",
    "\n",
    "2. Does it ‘successfully’ anonymize?\n",
    "\n",
    "Yes, it does anonymize to an extent, but data can be of various types and sizes, and hence the models NLP models needs to be more robust to understand data. \n",
    "\n",
    "3. How easy is it to use NLP?\n",
    "\n",
    "It was very easy to use NLP and apply it to various datasets. With simple libraries like Presido, we can remove a majority of the PII from the Dataset, but not completely. We need more robust solutions for the same.\n",
    "\n",
    "4. Does it make sense to use NLP?\n",
    "\n",
    "Absolutely, it makes sense to use NLP and NER (ML) models to detect patterns in data and types of PII. \n",
    "\n",
    "5. Are the available libraries good enough?\n",
    "\n",
    "As previously said, the availaible libraries are good enough but they can be more robust in terms of indentifying various PIIs in various types of Data, the main goal is indentification, libraries like Presido have no errors in masking."
   ]
  },
  {
   "attachments": {
    "image.png": {
     "image/png": "[encoded data removed]"
    }
   },
   "cell_type": "markdown",
   "metadata": {},
   "source": [
    "### There are some encryption strategies that were not used in the library\n",
    "\n",
    "one of them is polymorphic data encryption - \n",
    "![image.png](attachment:image.png)"
   ]
  },
  {
   "cell_type": "code",
   "execution_count": null,
   "metadata": {},
   "outputs": [],
   "source": []
  },
  {
   "cell_type": "code",
   "execution_count": null,
   "metadata": {},
   "outputs": [],
   "source": []
  }
 ],
 "metadata": {
  "kernelspec": {
   "display_name": "base",
   "language": "python",
   "name": "python3"
  },
  "language_info": {
   "codemirror_mode": {
    "name": "ipython",
    "version": 3
   },
   "file_extension": ".py",
   "mimetype": "text/x-python",
   "name": "python",
   "nbconvert_exporter": "python",
   "pygments_lexer": "ipython3",
   "version": "3.11.7"
  }
 },
 "nbformat": 4,
 "nbformat_minor": 2
}
