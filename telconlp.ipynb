{
 "cells": [
  {
   "cell_type": "code",
   "execution_count": 3,
   "metadata": {},
   "outputs": [
    {
     "name": "stdout",
     "output_type": "stream",
     "text": [
      "Hello world\n"
     ]
    }
   ],
   "source": [
    "print(\"Hello world\")"
   ]
  },
  {
   "cell_type": "code",
   "execution_count": 4,
   "metadata": {},
   "outputs": [],
   "source": [
    "import pandas as pd\n",
    "\n",
    "data  = pd.read_csv(\"archive\\client_hostname.csv\")"
   ]
  },
  {
   "cell_type": "code",
   "execution_count": 5,
   "metadata": {},
   "outputs": [
    {
     "data": {
      "text/html": [
       "<div>\n",
       "<style scoped>\n",
       "    .dataframe tbody tr th:only-of-type {\n",
       "        vertical-align: middle;\n",
       "    }\n",
       "\n",
       "    .dataframe tbody tr th {\n",
       "        vertical-align: top;\n",
       "    }\n",
       "\n",
       "    .dataframe thead th {\n",
       "        text-align: right;\n",
       "    }\n",
       "</style>\n",
       "<table border=\"1\" class=\"dataframe\">\n",
       "  <thead>\n",
       "    <tr style=\"text-align: right;\">\n",
       "      <th></th>\n",
       "      <th>client</th>\n",
       "      <th>hostname</th>\n",
       "      <th>alias_list</th>\n",
       "      <th>address_list</th>\n",
       "    </tr>\n",
       "  </thead>\n",
       "  <tbody>\n",
       "    <tr>\n",
       "      <th>0</th>\n",
       "      <td>5.123.144.95</td>\n",
       "      <td>5.123.144.95</td>\n",
       "      <td>[Errno 1] Unknown host</td>\n",
       "      <td>NaN</td>\n",
       "    </tr>\n",
       "    <tr>\n",
       "      <th>1</th>\n",
       "      <td>5.122.76.187</td>\n",
       "      <td>5.122.76.187</td>\n",
       "      <td>[Errno 1] Unknown host</td>\n",
       "      <td>NaN</td>\n",
       "    </tr>\n",
       "    <tr>\n",
       "      <th>2</th>\n",
       "      <td>5.215.249.99</td>\n",
       "      <td>5.215.249.99</td>\n",
       "      <td>[Errno 1] Unknown host</td>\n",
       "      <td>NaN</td>\n",
       "    </tr>\n",
       "    <tr>\n",
       "      <th>3</th>\n",
       "      <td>31.56.102.211</td>\n",
       "      <td>31-56-102-211.shatel.ir</td>\n",
       "      <td>['211.102.56.31.in-addr.arpa']</td>\n",
       "      <td>['31.56.102.211']</td>\n",
       "    </tr>\n",
       "    <tr>\n",
       "      <th>4</th>\n",
       "      <td>5.123.166.223</td>\n",
       "      <td>5.123.166.223</td>\n",
       "      <td>[Errno 1] Unknown host</td>\n",
       "      <td>NaN</td>\n",
       "    </tr>\n",
       "  </tbody>\n",
       "</table>\n",
       "</div>"
      ],
      "text/plain": [
       "          client                 hostname                      alias_list  \\\n",
       "0   5.123.144.95             5.123.144.95          [Errno 1] Unknown host   \n",
       "1   5.122.76.187             5.122.76.187          [Errno 1] Unknown host   \n",
       "2   5.215.249.99             5.215.249.99          [Errno 1] Unknown host   \n",
       "3  31.56.102.211  31-56-102-211.shatel.ir  ['211.102.56.31.in-addr.arpa']   \n",
       "4  5.123.166.223            5.123.166.223          [Errno 1] Unknown host   \n",
       "\n",
       "        address_list  \n",
       "0                NaN  \n",
       "1                NaN  \n",
       "2                NaN  \n",
       "3  ['31.56.102.211']  \n",
       "4                NaN  "
      ]
     },
     "execution_count": 5,
     "metadata": {},
     "output_type": "execute_result"
    }
   ],
   "source": [
    "data.head()"
   ]
  },
  {
   "cell_type": "code",
   "execution_count": 6,
   "metadata": {},
   "outputs": [
    {
     "data": {
      "text/html": [
       "<div>\n",
       "<style scoped>\n",
       "    .dataframe tbody tr th:only-of-type {\n",
       "        vertical-align: middle;\n",
       "    }\n",
       "\n",
       "    .dataframe tbody tr th {\n",
       "        vertical-align: top;\n",
       "    }\n",
       "\n",
       "    .dataframe thead th {\n",
       "        text-align: right;\n",
       "    }\n",
       "</style>\n",
       "<table border=\"1\" class=\"dataframe\">\n",
       "  <thead>\n",
       "    <tr style=\"text-align: right;\">\n",
       "      <th></th>\n",
       "      <th>client</th>\n",
       "      <th>hostname</th>\n",
       "      <th>alias_list</th>\n",
       "      <th>address_list</th>\n",
       "    </tr>\n",
       "  </thead>\n",
       "  <tbody>\n",
       "    <tr>\n",
       "      <th>count</th>\n",
       "      <td>258445</td>\n",
       "      <td>258441</td>\n",
       "      <td>258445</td>\n",
       "      <td>5819</td>\n",
       "    </tr>\n",
       "    <tr>\n",
       "      <th>unique</th>\n",
       "      <td>258445</td>\n",
       "      <td>258273</td>\n",
       "      <td>5820</td>\n",
       "      <td>5819</td>\n",
       "    </tr>\n",
       "    <tr>\n",
       "      <th>top</th>\n",
       "      <td>5.123.144.95</td>\n",
       "      <td>int0.client.access.fanaptelecom.net</td>\n",
       "      <td>[Errno 1] Unknown host</td>\n",
       "      <td>['31.56.102.211']</td>\n",
       "    </tr>\n",
       "    <tr>\n",
       "      <th>freq</th>\n",
       "      <td>1</td>\n",
       "      <td>101</td>\n",
       "      <td>252626</td>\n",
       "      <td>1</td>\n",
       "    </tr>\n",
       "  </tbody>\n",
       "</table>\n",
       "</div>"
      ],
      "text/plain": [
       "              client                             hostname  \\\n",
       "count         258445                               258441   \n",
       "unique        258445                               258273   \n",
       "top     5.123.144.95  int0.client.access.fanaptelecom.net   \n",
       "freq               1                                  101   \n",
       "\n",
       "                    alias_list       address_list  \n",
       "count                   258445               5819  \n",
       "unique                    5820               5819  \n",
       "top     [Errno 1] Unknown host  ['31.56.102.211']  \n",
       "freq                    252626                  1  "
      ]
     },
     "execution_count": 6,
     "metadata": {},
     "output_type": "execute_result"
    }
   ],
   "source": [
    "data.describe()"
   ]
  },
  {
   "cell_type": "code",
   "execution_count": null,
   "metadata": {},
   "outputs": [],
   "source": []
  }
 ],
 "metadata": {
  "kernelspec": {
   "display_name": "base",
   "language": "python",
   "name": "python3"
  },
  "language_info": {
   "codemirror_mode": {
    "name": "ipython",
    "version": 3
   },
   "file_extension": ".py",
   "mimetype": "text/x-python",
   "name": "python",
   "nbconvert_exporter": "python",
   "pygments_lexer": "ipython3",
   "version": "3.11.7"
  }
 },
 "nbformat": 4,
 "nbformat_minor": 2
}
